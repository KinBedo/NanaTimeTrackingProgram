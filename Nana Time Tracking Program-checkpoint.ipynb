{
 "cells": [
  {
   "cell_type": "code",
   "execution_count": 1,
   "metadata": {},
   "outputs": [],
   "source": [
    "from datetime import datetime, timedelta\n",
    "import time\n",
    "import locale\n",
    "import csv"
   ]
  },
  {
   "cell_type": "code",
   "execution_count": 2,
   "metadata": {},
   "outputs": [
    {
     "name": "stdout",
     "output_type": "stream",
     "text": [
      "Sunday 17-05-2020 18:33\n",
      "18.33\n"
     ]
    }
   ],
   "source": [
    "clockIn = datetime.now()\n",
    "print(clockIn.strftime('%A %d-%m-%Y %H:%M'))\n",
    "start_time = clockIn.strftime('%H.%M')\n",
    "print(start_time)"
   ]
  },
  {
   "cell_type": "code",
   "execution_count": 3,
   "metadata": {},
   "outputs": [
    {
     "name": "stdout",
     "output_type": "stream",
     "text": [
      "Sunday 17-05-2020 18:33\n",
      "18.33\n"
     ]
    }
   ],
   "source": [
    "clockOut = datetime.now()\n",
    "print(clockOut.strftime('%A %d-%m-%Y %H:%M'))\n",
    "end_time = clockOut.strftime('%H.%M')\n",
    "print(end_time)"
   ]
  },
  {
   "cell_type": "code",
   "execution_count": 4,
   "metadata": {},
   "outputs": [
    {
     "name": "stdout",
     "output_type": "stream",
     "text": [
      "0.00\n"
     ]
    }
   ],
   "source": [
    "overall_work_hrs = float(end_time) - float(start_time)\n",
    "OverallWorkHrs=\"%.2f\" % overall_work_hrs\n",
    "print(OverallWorkHrs)"
   ]
  },
  {
   "cell_type": "code",
   "execution_count": 5,
   "metadata": {},
   "outputs": [
    {
     "data": {
      "text/plain": [
       "'English_United States.1252'"
      ]
     },
     "execution_count": 5,
     "metadata": {},
     "output_type": "execute_result"
    }
   ],
   "source": [
    "locale.setlocale( locale.LC_ALL, '' )"
   ]
  },
  {
   "cell_type": "code",
   "execution_count": 6,
   "metadata": {},
   "outputs": [
    {
     "name": "stdout",
     "output_type": "stream",
     "text": [
      "$0.00\n"
     ]
    }
   ],
   "source": [
    "Wages = overall_work_hrs * 5\n",
    "Actual_wages = locale.currency(Wages, \"%.2f\" % Wages)\n",
    "print(Actual_wages)"
   ]
  },
  {
   "cell_type": "code",
   "execution_count": null,
   "metadata": {},
   "outputs": [],
   "source": [
    "NanaWages = [start_time, end_time, OverallWorkHrs, Actual_wages]\n",
    "with open('Nana_Wage_Record.csv', 'w') as f:\n",
    "    for N in NanaWages:\n",
    "        f.write(N)\n",
    "        f.write(\"\\n\")"
   ]
  }
 ],
 "metadata": {
  "kernelspec": {
   "display_name": "Python 3",
   "language": "python",
   "name": "python3"
  },
  "language_info": {
   "codemirror_mode": {
    "name": "ipython",
    "version": 3
   },
   "file_extension": ".py",
   "mimetype": "text/x-python",
   "name": "python",
   "nbconvert_exporter": "python",
   "pygments_lexer": "ipython3",
   "version": "3.7.6"
  }
 },
 "nbformat": 4,
 "nbformat_minor": 4
}
